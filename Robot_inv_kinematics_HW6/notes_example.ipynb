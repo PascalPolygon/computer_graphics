{
 "cells": [
  {
   "cell_type": "code",
   "execution_count": 1,
   "metadata": {},
   "outputs": [],
   "source": [
    "import numpy as np"
   ]
  },
  {
   "cell_type": "code",
   "execution_count": 2,
   "metadata": {},
   "outputs": [],
   "source": [
    "def rads(deg):\n",
    "    return np.radians(deg)\n",
    "\n",
    "def degrees(rads):\n",
    "    return np.degrees(rads)\n",
    "\n",
    "def cos(deg):\n",
    "    return np.cos(deg)\n",
    "\n",
    "def sin(deg):\n",
    "    return np.sin(deg)\n",
    "\n",
    "def get_transformation(angle, dx, dy):\n",
    "    return np.array([[cos(angle), 0, sin(angle), dx],\n",
    "                    [0, 1, 0, 0], \n",
    "                    [-1*sin(angle), 0, cos(angle), dy],\n",
    "                    [0, 0, 0, 1]])\n",
    "\n",
    "def get_transformation_1(angle, dx, dy):\n",
    "    return np.array([[cos(angle), -1*sin(angle), 0, dx], \n",
    "                    [sin(angle), cos(angle), 0, dy],\n",
    "                    [0, 0, 1, 0],\n",
    "                    [0, 0, 0, 1]])\n"
   ]
  },
  {
   "cell_type": "code",
   "execution_count": 3,
   "metadata": {},
   "outputs": [
    {
     "output_type": "error",
     "ename": "NameError",
     "evalue": "name 'phi' is not defined",
     "traceback": [
      "\u001b[0;31m---------------------------------------------------------------------------\u001b[0m",
      "\u001b[0;31mNameError\u001b[0m                                 Traceback (most recent call last)",
      "\u001b[0;32m<ipython-input-3-5381a48edb74>\u001b[0m in \u001b[0;36m<module>\u001b[0;34m\u001b[0m\n\u001b[0;32m----> 1\u001b[0;31m \u001b[0mT0_1\u001b[0m \u001b[0;34m=\u001b[0m \u001b[0mget_transformation_1\u001b[0m\u001b[0;34m(\u001b[0m\u001b[0mphi\u001b[0m\u001b[0;34m[\u001b[0m\u001b[0;36m0\u001b[0m\u001b[0;34m]\u001b[0m\u001b[0;34m,\u001b[0m \u001b[0;36m0\u001b[0m\u001b[0;34m,\u001b[0m \u001b[0;36m0\u001b[0m\u001b[0;34m)\u001b[0m\u001b[0;34m\u001b[0m\u001b[0;34m\u001b[0m\u001b[0m\n\u001b[0m\u001b[1;32m      2\u001b[0m \u001b[0mprint\u001b[0m\u001b[0;34m(\u001b[0m\u001b[0mT0_1\u001b[0m\u001b[0;34m)\u001b[0m\u001b[0;34m\u001b[0m\u001b[0;34m\u001b[0m\u001b[0m\n\u001b[1;32m      3\u001b[0m \u001b[0mT1_2\u001b[0m \u001b[0;34m=\u001b[0m \u001b[0mget_transformation\u001b[0m\u001b[0;34m(\u001b[0m\u001b[0mphi\u001b[0m\u001b[0;34m[\u001b[0m\u001b[0;36m1\u001b[0m\u001b[0;34m]\u001b[0m\u001b[0;34m,\u001b[0m \u001b[0;36m0\u001b[0m\u001b[0;34m,\u001b[0m \u001b[0ml1\u001b[0m\u001b[0;34m)\u001b[0m\u001b[0;34m\u001b[0m\u001b[0;34m\u001b[0m\u001b[0m\n\u001b[1;32m      4\u001b[0m \u001b[0mprint\u001b[0m\u001b[0;34m(\u001b[0m\u001b[0mT1_2\u001b[0m\u001b[0;34m)\u001b[0m\u001b[0;34m\u001b[0m\u001b[0;34m\u001b[0m\u001b[0m\n\u001b[1;32m      5\u001b[0m \u001b[0mT2_3\u001b[0m \u001b[0;34m=\u001b[0m \u001b[0mget_transformation\u001b[0m\u001b[0;34m(\u001b[0m\u001b[0mphi\u001b[0m\u001b[0;34m[\u001b[0m\u001b[0;36m2\u001b[0m\u001b[0;34m]\u001b[0m\u001b[0;34m,\u001b[0m \u001b[0;36m0\u001b[0m\u001b[0;34m,\u001b[0m \u001b[0ml2\u001b[0m\u001b[0;34m)\u001b[0m\u001b[0;34m\u001b[0m\u001b[0;34m\u001b[0m\u001b[0m\n",
      "\u001b[0;31mNameError\u001b[0m: name 'phi' is not defined"
     ]
    }
   ],
   "source": [
    "T0_1 = get_transformation_1(phi[0], 0, 0)\n",
    "print(T0_1)\n",
    "T1_2 = get_transformation(phi[1], 0, l1)\n",
    "print(T1_2)\n",
    "T2_3 = get_transformation(phi[2], 0, l2)\n",
    "# print(T2_3)\n",
    "T3_4 = get_transformation(phi[3], 0, l3)\n",
    "T4_5 = get_transformation(0, 0, l4)\n",
    "\n",
    "T0_2 = np.dot(T0_1, T1_2)\n",
    "T0_3 = np.dot(T0_2, T2_3)\n",
    "T0_4 = np.dot(T0_3, T3_4)\n",
    "T0_5 = np.dot(T0_4, T4_5)\n",
    "print(T0_5)\n",
    "v = np.array([0,0,0,1])\n",
    "print(np.dot(T0_5, v))"
   ]
  },
  {
   "cell_type": "code",
   "execution_count": 4,
   "metadata": {},
   "outputs": [],
   "source": [
    "def e(phi):\n",
    "    T0_1 = get_transformation_1(phi[0], 0, 0)\n",
    "    # print(T0_1)\n",
    "    T1_2 = get_transformation(phi[1], 0, l1)\n",
    "    # print(T1_2)\n",
    "    T2_3 = get_transformation(phi[2], 0, l2)\n",
    "    # print(T2_3)\n",
    "    T3_4 = get_transformation(phi[3], 0, l3)\n",
    "    T4_5 = get_transformation(0, 0, l4)\n",
    "\n",
    "    T0_2 = np.dot(T0_1, T1_2)\n",
    "    T0_3 = np.dot(T0_2, T2_3)\n",
    "    T0_4 = np.dot(T0_3, T3_4)\n",
    "    T0_5 = np.dot(T0_4, T4_5)\n",
    "    v = np.array([0,0,0,1])\n",
    "    # print(T0_5)\n",
    "    # print(np.dot(T0_5,v))\n",
    "    return np.dot(T0_5,v)\n",
    "    # print(e)\n",
    "\n"
   ]
  },
  {
   "cell_type": "code",
   "execution_count": 5,
   "metadata": {},
   "outputs": [],
   "source": [
    "phi = np.array([0, np.pi/4, np.pi/4, np.pi/4])\n",
    "# phi1 = 0\n",
    "# phi2 = np.pi/4\n",
    "# phi3 = np.pi/4\n",
    "# phi4 = np.pi/4\n",
    "l1 = 6\n",
    "l2 = 6\n",
    "l3 = 1\n",
    "l4 = 1"
   ]
  },
  {
   "cell_type": "code",
   "execution_count": 6,
   "metadata": {},
   "outputs": [
    {
     "output_type": "stream",
     "name": "stdout",
     "text": "[5.94974747 0.         9.53553391 1.        ]\n"
    }
   ],
   "source": [
    "p5 = e(phi)\n",
    "print(p5)\n"
   ]
  },
  {
   "cell_type": "code",
   "execution_count": 7,
   "metadata": {},
   "outputs": [
    {
     "output_type": "stream",
     "name": "stdout",
     "text": "[-2.59606691e-03  5.94974671e+00  0.00000000e+00  0.00000000e+00]\n"
    }
   ],
   "source": [
    "# n_phi = np.array([phi[0]+rads(0.05),0,0,0])\n",
    "delt_i = rads(0.05)\n",
    "# print(f'delt_i: {delt_i}')\n",
    "d_phi = np.array([delt_i, 0, 0, 0])\n",
    "num1 = e(phi+d_phi)\n",
    "num2 = e(phi)\n",
    "# print(num1)\n",
    "# print(num2)\n",
    "de_dphi_1 = (num1-num2)/delt_i\n",
    "print(de_dphi_1)\n",
    "# print(de_dphi)\n"
   ]
  },
  {
   "cell_type": "code",
   "execution_count": 10,
   "metadata": {},
   "outputs": [
    {
     "output_type": "stream",
     "name": "stdout",
     "text": "[ 3.53293739  0.         -5.95128938  0.        ]\n"
    }
   ],
   "source": [
    "delt_i = rads(0.05)\n",
    "# print(f'delt_i: {delt_i}')\n",
    "d_phi = np.array([0, delt_i, 0, 0])\n",
    "num1 = e(phi+d_phi)\n",
    "num2 = e(phi)\n",
    "# print(num1)\n",
    "# print(num2)\n",
    "de_dphi_2 = (num1-num2)/delt_i\n",
    "print(de_dphi_2)"
   ]
  },
  {
   "cell_type": "code",
   "execution_count": 12,
   "metadata": {},
   "outputs": [
    {
     "output_type": "stream",
     "name": "stdout",
     "text": "[-0.70785156  0.         -1.70679803  0.        ]\n"
    }
   ],
   "source": [
    "delt_i = rads(0.05)\n",
    "# print(f'delt_i: {delt_i}')\n",
    "d_phi = np.array([0, 0, delt_i, 0])\n",
    "num1 = e(phi+d_phi)\n",
    "num2 = e(phi)\n",
    "# print(num1)\n",
    "# print(num2)\n",
    "de_dphi_3 = (num1-num2)/delt_i\n",
    "print(de_dphi_3)"
   ]
  },
  {
   "cell_type": "code",
   "execution_count": 14,
   "metadata": {},
   "outputs": [
    {
     "output_type": "stream",
     "name": "stdout",
     "text": "[-0.70741522  0.         -0.70679816  0.        ]\n"
    }
   ],
   "source": [
    "delt_i = rads(0.05)\n",
    "# print(f'delt_i: {delt_i}')\n",
    "d_phi = np.array([0, 0, 0, delt_i])\n",
    "num1 = e(phi+d_phi)\n",
    "num2 = e(phi)\n",
    "# print(num1)\n",
    "# print(num2)\n",
    "de_dphi_4 = (num1-num2)/delt_i\n",
    "print(de_dphi_4)"
   ]
  },
  {
   "cell_type": "code",
   "execution_count": 41,
   "metadata": {},
   "outputs": [
    {
     "output_type": "stream",
     "name": "stdout",
     "text": "[[-2.59606691e-03  5.94974671e+00  0.00000000e+00  0.00000000e+00]\n [ 3.53033998e+00  5.95282978e+00 -5.95128938e+00  0.00000000e+00]\n [ 2.82099950e+00  5.95221077e+00 -7.65746904e+00  0.00000000e+00]\n [ 2.11235203e+00  5.95159235e+00 -8.36303145e+00  0.00000000e+00]]\n[[-2.59606691e-03  3.53033998e+00  2.82099950e+00  2.11235203e+00]\n [ 5.94974671e+00  5.95282978e+00  5.95221077e+00  5.95159235e+00]\n [ 0.00000000e+00 -5.95128938e+00 -7.65746904e+00 -8.36303145e+00]\n [ 0.00000000e+00  0.00000000e+00  0.00000000e+00  0.00000000e+00]]\n"
    }
   ],
   "source": [
    "\n",
    "de_dphi = np.ndarray((4,4))\n",
    "d_phi = np.zeros(4);\n",
    "for i in range(4):\n",
    "    d_phi[i] =  delt_i\n",
    "    num1 = e(phi+d_phi)\n",
    "    num2 = e(phi)\n",
    "    de_dphi[i]= (num1-num2)/delt_i\n",
    "\n",
    "# print(de_dphi)\n",
    "de_dphi = de_dphi.transpose()\n",
    "print(de_dphi)\n"
   ]
  },
  {
   "cell_type": "code",
   "execution_count": 15,
   "metadata": {},
   "outputs": [
    {
     "output_type": "stream",
     "name": "stdout",
     "text": "[[-2.59606691e-03  3.53293739e+00 -7.07851557e-01 -7.07415225e-01]\n [ 5.94974671e+00  0.00000000e+00  0.00000000e+00  0.00000000e+00]\n [ 0.00000000e+00 -5.95128938e+00 -1.70679803e+00 -7.06798158e-01]]\n"
    }
   ],
   "source": [
    "dim = len(de_dphi_4)\n",
    "J = np.array([[de_dphi_1[:dim-1]],[de_dphi_2[:dim-1]],[de_dphi_3[:dim-1]],[de_dphi_4[:dim-1]]])\n",
    "J = np.transpose(J)\n",
    "J = np.reshape(J, (3,4))\n",
    "print(J)"
   ]
  },
  {
   "cell_type": "code",
   "execution_count": 16,
   "metadata": {},
   "outputs": [
    {
     "output_type": "stream",
     "name": "stdout",
     "text": "[[ 8.05906404e-17  1.68074382e-01  4.77404216e-17]\n [ 1.47760232e-01  6.44725678e-05 -7.97554592e-02]\n [-4.01983770e-01 -1.75398519e-04 -2.43933297e-01]\n [-2.73428544e-01 -1.19305717e-04 -1.54226932e-01]]\n"
    }
   ],
   "source": [
    "J_pinv = np.linalg.pinv(J)\n",
    "print(J_pinv)"
   ]
  },
  {
   "cell_type": "code",
   "execution_count": 24,
   "metadata": {},
   "outputs": [
    {
     "output_type": "stream",
     "name": "stdout",
     "text": "[5.75958651e-04 3.01571245e-08 1.40000000e+01 1.00000000e+00]\n"
    }
   ],
   "source": [
    "my_phi = np.array([rads(0.003), rads(0.003), rads(0.003), rads(0.003)])\n",
    "my_p5 = e(my_phi)\n",
    "print(my_p5)"
   ]
  },
  {
   "cell_type": "code",
   "execution_count": 28,
   "metadata": {},
   "outputs": [
    {
     "output_type": "stream",
     "name": "stdout",
     "text": "[5.75958651e-04 3.01571245e-08 1.40000000e+01]\n[ 5.06864072e-09 -1.11649132e+00 -3.41529768e+00 -2.15933452e+00]\n"
    }
   ],
   "source": [
    "de = my_p5[:3]\n",
    "print(de)\n",
    "# de = my_p5\n",
    "pred_phi = np.dot(J_pinv, de)\n",
    "\n",
    "print(pred_phi)"
   ]
  },
  {
   "cell_type": "code",
   "execution_count": 131,
   "metadata": {},
   "outputs": [
    {
     "output_type": "execute_result",
     "data": {
      "text/plain": "0.7853981633974483"
     },
     "metadata": {},
     "execution_count": 131
    }
   ],
   "source": [
    "np.pi/4"
   ]
  },
  {
   "cell_type": "code",
   "execution_count": null,
   "metadata": {},
   "outputs": [],
   "source": []
  }
 ],
 "metadata": {
  "language_info": {
   "codemirror_mode": {
    "name": "ipython",
    "version": 3
   },
   "file_extension": ".py",
   "mimetype": "text/x-python",
   "name": "python",
   "nbconvert_exporter": "python",
   "pygments_lexer": "ipython3",
   "version": "3.7.4-final"
  },
  "orig_nbformat": 2,
  "kernelspec": {
   "name": "python37464bitbaseconda3b15b15b47874cc680b55031cb935bf2",
   "display_name": "Python 3.7.4 64-bit ('base': conda)"
  }
 },
 "nbformat": 4,
 "nbformat_minor": 2
}