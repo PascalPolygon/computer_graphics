{
 "cells": [
  {
   "cell_type": "code",
   "execution_count": 1,
   "metadata": {},
   "outputs": [],
   "source": [
    "import sympy as sym\n",
    "import numpy as np"
   ]
  },
  {
   "cell_type": "code",
   "execution_count": 21,
   "metadata": {},
   "outputs": [
    {
     "output_type": "execute_result",
     "data": {
      "text/plain": "1.224744871391589"
     },
     "metadata": {},
     "execution_count": 21
    }
   ],
   "source": [
    "np.sqrt(1.5)"
   ]
  },
  {
   "cell_type": "code",
   "execution_count": 4,
   "metadata": {},
   "outputs": [
    {
     "output_type": "execute_result",
     "data": {
      "text/plain": "Matrix([\n[ 6],\n[15],\n[24]])",
      "text/latex": "$\\displaystyle \\left[\\begin{matrix}6\\\\15\\\\24\\end{matrix}\\right]$"
     },
     "metadata": {},
     "execution_count": 4
    }
   ],
   "source": [
    "M = Matrix([[1, 2, 3], [4, 5, 6], [7, 8, 9]])\n",
    "v = Matrix([1, 1, 1])\n",
    "M*v"
   ]
  },
  {
   "cell_type": "code",
   "execution_count": 2,
   "metadata": {},
   "outputs": [],
   "source": [
    "def jacobian(v_str, f_list):\n",
    "    vars = sym.symbols(v_str)\n",
    "    f = sym.sympify(f_list)\n",
    "    J = sym.zeros(len(f),len(vars))\n",
    "    for i, fi in enumerate(f):\n",
    "        for j, s in enumerate(vars):\n",
    "            J[i,j] = sym.diff(fi, s)\n",
    "    return J"
   ]
  },
  {
   "cell_type": "code",
   "execution_count": 3,
   "metadata": {},
   "outputs": [
    {
     "output_type": "execute_result",
     "data": {
      "text/plain": "Matrix([\n[   0],\n[48.5],\n[   1]])",
      "text/latex": "$\\displaystyle \\left[\\begin{matrix}0\\\\48.5\\\\1\\end{matrix}\\right]$"
     },
     "metadata": {},
     "execution_count": 3
    }
   ],
   "source": [
    "Ts0_1 = sym.Matrix([['cos(phi1)', '-1*sin(phi1)', 0],['sin(phi1)', 'cos(phi1)', 12.5],[0, 0, 1]])\n",
    "Ts1_2 = sym.Matrix([['cos(phi2)', '-1*sin(phi2)', 0],['sin(phi2)', 'cos(phi2)', 12],[0, 0, 1]])\n",
    "Ts2_3 = sym.Matrix([['cos(phi3)', '-1*sin(phi3)', 0],['sin(phi3)', 'cos(phi3)', 12],[0, 0, 1]])\n",
    "Ts3_4 = sym.Matrix([['cos(0)', '-1*sin(0)', 0],['sin(0)', 'cos(0)', 12],[0, 0, 1]])\n",
    "v = sym.Matrix([0, 0, 1])\n",
    "Ts0_5 = Ts0_1*Ts1_2*Ts2_3*Ts3_4*v\n",
    "Ts0_5\n",
    "Ts0_5.subs([('phi1', 0), ('phi2', 0), ('phi3', 0)])\n"
   ]
  },
  {
   "cell_type": "code",
   "execution_count": 13,
   "metadata": {},
   "outputs": [
    {
     "output_type": "execute_result",
     "data": {
      "text/plain": "Matrix([\n[     -12*(-sin(x)*sin(y) + cos(x)*cos(y))*sin(z) + 12*(-sin(x)*cos(y) - sin(y)*cos(x))*cos(z) - 12*sin(x)*cos(y) - 12*sin(x) - 12*sin(y)*cos(x)],\n[12*(-sin(x)*sin(y) + cos(x)*cos(y))*cos(z) - 12*(sin(x)*cos(y) + sin(y)*cos(x))*sin(z) - 12*sin(x)*sin(y) + 12*cos(x)*cos(y) + 12*cos(x) + 12.5],\n[                                                                                                                                              1]])",
      "text/latex": "$\\displaystyle \\left[\\begin{matrix}- 12 \\left(- \\sin{\\left(x \\right)} \\sin{\\left(y \\right)} + \\cos{\\left(x \\right)} \\cos{\\left(y \\right)}\\right) \\sin{\\left(z \\right)} + 12 \\left(- \\sin{\\left(x \\right)} \\cos{\\left(y \\right)} - \\sin{\\left(y \\right)} \\cos{\\left(x \\right)}\\right) \\cos{\\left(z \\right)} - 12 \\sin{\\left(x \\right)} \\cos{\\left(y \\right)} - 12 \\sin{\\left(x \\right)} - 12 \\sin{\\left(y \\right)} \\cos{\\left(x \\right)}\\\\12 \\left(- \\sin{\\left(x \\right)} \\sin{\\left(y \\right)} + \\cos{\\left(x \\right)} \\cos{\\left(y \\right)}\\right) \\cos{\\left(z \\right)} - 12 \\left(\\sin{\\left(x \\right)} \\cos{\\left(y \\right)} + \\sin{\\left(y \\right)} \\cos{\\left(x \\right)}\\right) \\sin{\\left(z \\right)} - 12 \\sin{\\left(x \\right)} \\sin{\\left(y \\right)} + 12 \\cos{\\left(x \\right)} \\cos{\\left(y \\right)} + 12 \\cos{\\left(x \\right)} + 12.5\\\\1\\end{matrix}\\right]$"
     },
     "metadata": {},
     "execution_count": 13
    }
   ],
   "source": [
    "Ts0_1 = sym.Matrix([['cos(x)', '-1*sin(x)', 0],['sin(x)', 'cos(x)', 12.5],[0, 0, 1]])\n",
    "Ts1_2 = sym.Matrix([['cos(y)', '-1*sin(y)', 0],['sin(y)', 'cos(y)', 12],[0, 0, 1]])\n",
    "Ts2_3 = sym.Matrix([['cos(z)', '-1*sin(z)', 0],['sin(z)', 'cos(z)', 12],[0, 0, 1]])\n",
    "Ts3_4 = sym.Matrix([['cos(0)', '-1*sin(0)', 0],['sin(0)', 'cos(0)', 12],[0, 0, 1]])\n",
    "v = sym.Matrix([0, 0, 1])\n",
    "Ts0_5 = Ts0_1*Ts1_2*Ts2_3*Ts3_4*v\n",
    "Ts0_5\n",
    "# Ts0_5.subs([('phi1', 0), ('phi2', 0), ('phi3', 0)])"
   ]
  },
  {
   "cell_type": "code",
   "execution_count": 14,
   "metadata": {},
   "outputs": [
    {
     "output_type": "execute_result",
     "data": {
      "text/plain": "-12*(-sin(x)*sin(y) + cos(x)*cos(y))*sin(z) + 12*(-sin(x)*cos(y) - sin(y)*cos(x))*cos(z) - 12*sin(x)*cos(y) - 12*sin(x) - 12*sin(y)*cos(x)",
      "text/latex": "$\\displaystyle - 12 \\left(- \\sin{\\left(x \\right)} \\sin{\\left(y \\right)} + \\cos{\\left(x \\right)} \\cos{\\left(y \\right)}\\right) \\sin{\\left(z \\right)} + 12 \\left(- \\sin{\\left(x \\right)} \\cos{\\left(y \\right)} - \\sin{\\left(y \\right)} \\cos{\\left(x \\right)}\\right) \\cos{\\left(z \\right)} - 12 \\sin{\\left(x \\right)} \\cos{\\left(y \\right)} - 12 \\sin{\\left(x \\right)} - 12 \\sin{\\left(y \\right)} \\cos{\\left(x \\right)}$"
     },
     "metadata": {},
     "execution_count": 14
    }
   ],
   "source": [
    "Ts0_5[0]"
   ]
  },
  {
   "cell_type": "code",
   "execution_count": 28,
   "metadata": {},
   "outputs": [
    {
     "output_type": "stream",
     "name": "stdout",
     "text": "Matrix([[-0.216621277476834], [-0.144414184984556], [-0.0722070924922778]])\n[[-0.21662128]\n [-0.14441418]\n [-0.07220709]]\n"
    },
    {
     "output_type": "execute_result",
     "data": {
      "text/plain": "array([[-12.41148495],\n       [ -8.2743233 ],\n       [ -4.13716165]])"
     },
     "metadata": {},
     "execution_count": 28
    }
   ],
   "source": [
    "J = jacobian('x y z', [Ts0_5[0], Ts0_5[1]])\n",
    "J_n = J.subs([('x', 0), ('y', 0), ('z', 0)])\n",
    "J_n\n",
    "J_inv = J_n.pinv()\n",
    "J_inv\n",
    "d_phi = J_inv*(sym.Matrix([12.13079153870268, -2.48905832344785]))\n",
    "# print(d_phi)\n",
    "d_phi = np.array(d_phi, dtype=np.float64)\n",
    "# print(d_phi)\n",
    "degrees(d_phi)"
   ]
  },
  {
   "cell_type": "code",
   "execution_count": 23,
   "metadata": {},
   "outputs": [
    {
     "output_type": "execute_result",
     "data": {
      "text/plain": "Matrix([\n[ -1/56, 0],\n[ -1/84, 0],\n[-1/168, 0]])",
      "text/latex": "$\\displaystyle \\left[\\begin{matrix}- \\frac{1}{56} & 0\\\\- \\frac{1}{84} & 0\\\\- \\frac{1}{168} & 0\\end{matrix}\\right]$"
     },
     "metadata": {},
     "execution_count": 23
    }
   ],
   "source": [
    "J_2d = sym.Matrix([[-36, -24, -12],[0,0,0]])\n",
    "J_2d.pinv()"
   ]
  },
  {
   "cell_type": "code",
   "execution_count": 22,
   "metadata": {},
   "outputs": [
    {
     "output_type": "execute_result",
     "data": {
      "text/plain": "Matrix([\n[ -1/56, 0, 0],\n[ -1/84, 0, 0],\n[-1/168, 0, 0]])",
      "text/latex": "$\\displaystyle \\left[\\begin{matrix}- \\frac{1}{56} & 0 & 0\\\\- \\frac{1}{84} & 0 & 0\\\\- \\frac{1}{168} & 0 & 0\\end{matrix}\\right]$"
     },
     "metadata": {},
     "execution_count": 22
    }
   ],
   "source": [
    "J_3d = sym.Matrix([[-36, -24, -12],[0,0,0],[0,0,0]])\n",
    "J_3d.pinv()"
   ]
  },
  {
   "cell_type": "code",
   "execution_count": 24,
   "metadata": {},
   "outputs": [
    {
     "output_type": "execute_result",
     "data": {
      "text/plain": "Matrix([\n[ p5_y*((sin(phi1)*sin(phi2) - cos(phi1)*cos(phi2))*cos(phi3) + (sin(phi1)*cos(phi2) + sin(phi2)*cos(phi1))*sin(phi3)) + 12*sin(phi1)*sin(phi2) - 12*cos(phi1)*cos(phi2) - 12*cos(phi1),  p5_y*((sin(phi1)*sin(phi2) - cos(phi1)*cos(phi2))*cos(phi3) + (sin(phi1)*cos(phi2) + sin(phi2)*cos(phi1))*sin(phi3)) + 12*sin(phi1)*sin(phi2) - 12*cos(phi1)*cos(phi2),   p5_y*((sin(phi1)*sin(phi2) - cos(phi1)*cos(phi2))*cos(phi3) - (-sin(phi1)*cos(phi2) - sin(phi2)*cos(phi1))*sin(phi3))],\n[p5_y*((sin(phi1)*sin(phi2) - cos(phi1)*cos(phi2))*sin(phi3) + (-sin(phi1)*cos(phi2) - sin(phi2)*cos(phi1))*cos(phi3)) - 12*sin(phi1)*cos(phi2) - 12*sin(phi1) - 12*sin(phi2)*cos(phi1), p5_y*((sin(phi1)*sin(phi2) - cos(phi1)*cos(phi2))*sin(phi3) + (-sin(phi1)*cos(phi2) - sin(phi2)*cos(phi1))*cos(phi3)) - 12*sin(phi1)*cos(phi2) - 12*sin(phi2)*cos(phi1), p5_y*(-(-sin(phi1)*sin(phi2) + cos(phi1)*cos(phi2))*sin(phi3) + (-sin(phi1)*cos(phi2) - sin(phi2)*cos(phi1))*cos(phi3))]])",
      "text/latex": "$\\displaystyle \\left[\\begin{matrix}p_{5 y} \\left(\\left(\\sin{\\left(\\phi_{1} \\right)} \\sin{\\left(\\phi_{2} \\right)} - \\cos{\\left(\\phi_{1} \\right)} \\cos{\\left(\\phi_{2} \\right)}\\right) \\cos{\\left(\\phi_{3} \\right)} + \\left(\\sin{\\left(\\phi_{1} \\right)} \\cos{\\left(\\phi_{2} \\right)} + \\sin{\\left(\\phi_{2} \\right)} \\cos{\\left(\\phi_{1} \\right)}\\right) \\sin{\\left(\\phi_{3} \\right)}\\right) + 12 \\sin{\\left(\\phi_{1} \\right)} \\sin{\\left(\\phi_{2} \\right)} - 12 \\cos{\\left(\\phi_{1} \\right)} \\cos{\\left(\\phi_{2} \\right)} - 12 \\cos{\\left(\\phi_{1} \\right)} & p_{5 y} \\left(\\left(\\sin{\\left(\\phi_{1} \\right)} \\sin{\\left(\\phi_{2} \\right)} - \\cos{\\left(\\phi_{1} \\right)} \\cos{\\left(\\phi_{2} \\right)}\\right) \\cos{\\left(\\phi_{3} \\right)} + \\left(\\sin{\\left(\\phi_{1} \\right)} \\cos{\\left(\\phi_{2} \\right)} + \\sin{\\left(\\phi_{2} \\right)} \\cos{\\left(\\phi_{1} \\right)}\\right) \\sin{\\left(\\phi_{3} \\right)}\\right) + 12 \\sin{\\left(\\phi_{1} \\right)} \\sin{\\left(\\phi_{2} \\right)} - 12 \\cos{\\left(\\phi_{1} \\right)} \\cos{\\left(\\phi_{2} \\right)} & p_{5 y} \\left(\\left(\\sin{\\left(\\phi_{1} \\right)} \\sin{\\left(\\phi_{2} \\right)} - \\cos{\\left(\\phi_{1} \\right)} \\cos{\\left(\\phi_{2} \\right)}\\right) \\cos{\\left(\\phi_{3} \\right)} - \\left(- \\sin{\\left(\\phi_{1} \\right)} \\cos{\\left(\\phi_{2} \\right)} - \\sin{\\left(\\phi_{2} \\right)} \\cos{\\left(\\phi_{1} \\right)}\\right) \\sin{\\left(\\phi_{3} \\right)}\\right)\\\\p_{5 y} \\left(\\left(\\sin{\\left(\\phi_{1} \\right)} \\sin{\\left(\\phi_{2} \\right)} - \\cos{\\left(\\phi_{1} \\right)} \\cos{\\left(\\phi_{2} \\right)}\\right) \\sin{\\left(\\phi_{3} \\right)} + \\left(- \\sin{\\left(\\phi_{1} \\right)} \\cos{\\left(\\phi_{2} \\right)} - \\sin{\\left(\\phi_{2} \\right)} \\cos{\\left(\\phi_{1} \\right)}\\right) \\cos{\\left(\\phi_{3} \\right)}\\right) - 12 \\sin{\\left(\\phi_{1} \\right)} \\cos{\\left(\\phi_{2} \\right)} - 12 \\sin{\\left(\\phi_{1} \\right)} - 12 \\sin{\\left(\\phi_{2} \\right)} \\cos{\\left(\\phi_{1} \\right)} & p_{5 y} \\left(\\left(\\sin{\\left(\\phi_{1} \\right)} \\sin{\\left(\\phi_{2} \\right)} - \\cos{\\left(\\phi_{1} \\right)} \\cos{\\left(\\phi_{2} \\right)}\\right) \\sin{\\left(\\phi_{3} \\right)} + \\left(- \\sin{\\left(\\phi_{1} \\right)} \\cos{\\left(\\phi_{2} \\right)} - \\sin{\\left(\\phi_{2} \\right)} \\cos{\\left(\\phi_{1} \\right)}\\right) \\cos{\\left(\\phi_{3} \\right)}\\right) - 12 \\sin{\\left(\\phi_{1} \\right)} \\cos{\\left(\\phi_{2} \\right)} - 12 \\sin{\\left(\\phi_{2} \\right)} \\cos{\\left(\\phi_{1} \\right)} & p_{5 y} \\left(- \\left(- \\sin{\\left(\\phi_{1} \\right)} \\sin{\\left(\\phi_{2} \\right)} + \\cos{\\left(\\phi_{1} \\right)} \\cos{\\left(\\phi_{2} \\right)}\\right) \\sin{\\left(\\phi_{3} \\right)} + \\left(- \\sin{\\left(\\phi_{1} \\right)} \\cos{\\left(\\phi_{2} \\right)} - \\sin{\\left(\\phi_{2} \\right)} \\cos{\\left(\\phi_{1} \\right)}\\right) \\cos{\\left(\\phi_{3} \\right)}\\right)\\end{matrix}\\right]$"
     },
     "metadata": {},
     "execution_count": 24
    }
   ],
   "source": [
    "J = jacobian('phi1 phi2 phi3', [Ts0_5[0], Ts0_5[1]])\n",
    "J"
   ]
  },
  {
   "cell_type": "code",
   "execution_count": 7,
   "metadata": {},
   "outputs": [
    {
     "output_type": "execute_result",
     "data": {
      "text/plain": "pi",
      "text/latex": "$\\displaystyle \\pi$"
     },
     "metadata": {},
     "execution_count": 7
    }
   ],
   "source": [
    "sym.pi"
   ]
  },
  {
   "cell_type": "code",
   "execution_count": 25,
   "metadata": {},
   "outputs": [],
   "source": [
    "J_num = J.subs([('phi1', sym.pi/2), ('phi2', sym.pi/2), ('phi3', sym.pi/2), ('p2_y', 1), ('p3_y', 2), ('p4_y', 3), ('p5_y', 4)])"
   ]
  },
  {
   "cell_type": "code",
   "execution_count": 26,
   "metadata": {},
   "outputs": [
    {
     "output_type": "execute_result",
     "data": {
      "text/plain": "(3, 2)"
     },
     "metadata": {},
     "execution_count": 26
    }
   ],
   "source": [
    "J_pinv = J_num.pinv()\n",
    "J_pinv.shape"
   ]
  },
  {
   "cell_type": "code",
   "execution_count": 28,
   "metadata": {},
   "outputs": [
    {
     "output_type": "execute_result",
     "data": {
      "text/plain": "Matrix([\n[-0.0621212121212121],\n[ 0.0787878787878788],\n[  0.046969696969697]])",
      "text/latex": "$\\displaystyle \\left[\\begin{matrix}-0.0621212121212121\\\\0.0787878787878788\\\\0.046969696969697\\end{matrix}\\right]$"
     },
     "metadata": {},
     "execution_count": 28
    }
   ],
   "source": [
    "J_pinv*sym.Matrix([0.2,1])"
   ]
  },
  {
   "cell_type": "code",
   "execution_count": 6,
   "metadata": {},
   "outputs": [
    {
     "output_type": "stream",
     "name": "stdout",
     "text": "[[ 0. ]\n [48.5]\n [ 1. ]]\n"
    }
   ],
   "source": [
    "x_g = 35\n",
    "y_g = 21\n",
    "\n",
    "phi1 = 0\n",
    "phi2 = 0\n",
    "phi3 = 0\n",
    "\n",
    "lmbda = -0.1\n",
    "\n",
    "v = sym.Matrix([0, 0, 1])\n",
    "e = Ts0_1*Ts1_2*Ts2_3*Ts3_4*v\n",
    "J = jacobian('phi1 phi2 phi3', [e[0], e[1]])\n",
    "e = e.subs([('phi1', rads(phi1)), ('phi2', rads(phi2)), ('phi3', rads(phi3))])\n",
    "e = np.array(e, dtype=np.float64) #convert sympy array to numpy array (different float representation)\n",
    "C = computeCost(e[0], e[1], x_g, y_g)\n",
    "print(e)"
   ]
  },
  {
   "cell_type": "code",
   "execution_count": 7,
   "metadata": {
    "tags": [
     "outputPrepend",
     "outputPrepend",
     "outputPrepend",
     "outputPrepend",
     "outputPrepend",
     "outputPrepend",
     "outputPrepend",
     "outputPrepend",
     "outputPrepend",
     "outputPrepend",
     "outputPrepend",
     "outputPrepend",
     "outputPrepend",
     "outputPrepend",
     "outputPrepend",
     "outputPrepend",
     "outputPrepend",
     "outputPrepend",
     "outputPrepend",
     "outputPrepend",
     "outputPrepend",
     "outputPrepend",
     "outputPrepend",
     "outputPrepend",
     "outputPrepend",
     "outputPrepend",
     "outputPrepend",
     "outputPrepend",
     "outputPrepend",
     "outputPrepend",
     "outputPrepend",
     "outputPrepend",
     "outputPrepend",
     "outputPrepend",
     "outputPrepend",
     "outputPrepend",
     "outputPrepend",
     "outputPrepend",
     "outputPrepend",
     "outputPrepend",
     "outputPrepend",
     "outputPrepend",
     "outputPrepend",
     "outputPrepend",
     "outputPrepend",
     "outputPrepend"
    ]
   },
   "outputs": [
    {
     "output_type": "stream",
     "name": "stdout",
     "text": "de: Matrix([[0.0786318338822423], [-0.0617821551931904]])\nJ num: Matrix([[-36, -24, -12], [0, 0, 0]])\nd_phi: Matrix([[-0.00140413989075433], [-0.000936093260502884], [-0.000468046630251442]])\nin degs: -0.08045128958618336, -0.05363419305745558, -0.02681709652872779\nIs at [[ 0.07863183]\n [48.43821784]\n [ 1.        ]]\ncost: [44.41123454]\n_____________________________________\nde: Matrix([[0.0786318338822423], [-0.0617821551931904]])\nJ num: Matrix([[-35.9999079916358, -23.9999198212869, -11.9999526814191], [0.0786317584173357, 0.0617820852651124, 0.0336993130834875]])\nd_phi: Matrix([[3.65432946857042], [-3.65667351254360], [-3.65620486385808]])\nin degs: 209.297204209784, -209.5655935190836, -209.51192483080018\nIs at [[ 0.15726367]\n [48.37643569]\n [ 1.        ]]\ncost: [44.31123454]\n_____________________________________\nde: Matrix([[0.0786318338822423], [-0.0617821551931904]])\nJ num: Matrix([[8.88048331640286, -1.58463449769670, 10.4152338478310], [-0.0318194914734571, -5.90389826623595, -5.96010938616030]])\nd_phi: Matrix([[0.00192427849949085], [0.00389134720255722], [0.00650102290359901]])\nin degs: 209.4074572464126, -209.34263574775701, -209.13944365590606\nIs at [[ 0.2358955 ]\n [48.31465353]\n [ 1.        ]]\ncost: [44.21123454]\n_____________________________________\nde: Matrix([[0.0786318338822423], [-0.0617821551931903]])\nJ num: Matrix([[8.94165719063718, -1.51214174013922, 10.4878505801640], [0.0472497258358224, -5.84495596599965, -5.83137978596439]])\nd_phi: Matrix([[0.00181457524786770], [0.00406374156238209], [0.00653627516742697]])\nin degs: 209.51142474972434, -209.10980050720062, -208.76494267507633\nIs at [[ 0.31452734]\n [48.25287138]\n [ 1.        ]]\ncost: [44.11123454]\n_____________________________________\nde: Matrix([[0.0786318338822423], [-0.0617821551931903]])\nJ num: Matrix([[9.00281941369682, -1.44027046182329, 10.5594347269308], [0.126318511506347, -5.78484667412411, -5.70073137831356]])\nd_phi: Matrix([[0.00170204368376755], [0.00423909446801719], [0.00657365534285560]])\nin degs: 209.60894466935113, -208.86691828522598, -208.38829996795707\nIs at [[ 0.39315917]\n [48.19108922]\n [ 1.        ]]\ncost: [44.01123454]\n_____________________________________\nde: Matrix([[0.0786318338822423], [-0.0617821551931903]])\nJ num: Matrix([[9.06396946002572, -1.36904423241915, 10.6299494417724], [0.205386647634864, -5.72354456239430, -5.56813926418538]])\nd_phi: Matrix([[0.00158660438575651], [0.00441760777685386], [0.00661327704498215]])\nin degs: 209.69985040441193, -208.6138080040681, -208.00938710452886\nIs at [[ 0.471791  ]\n [48.12930707]\n [ 1.        ]]\ncost: [43.91123454]\n_____________________________________\nde: Matrix([[0.0786318338822423], [-0.0617821551931903]])\nJ num: Matrix([[9.12510676420546, -1.29848693234517, 10.6993573764780], [0.284453908325305, -5.66102289755242, -5.43357632967510]])\nd_phi: Matrix([[0.00146816975049965], [0.00459950583381550], [0.00665526198217809]])\nin degs: 209.78397033472433, -208.35027573194466, -207.62806868139617\nIs at [[ 0.55042284]\n [48.06752491]\n [ 1.        ]]\ncost: [43.81123454]\n_____________________________________\nde: Matrix([[0.0786318338822423], [-0.0617821551931903]])\nJ num: Matrix([[9.18623071701577, -1.22862277932916, 10.7676206062140], [0.363520059082139, -5.59725393845137, -5.29701297720104]])\nd_phi: Matrix([[0.00134664300100664], [0.00478503801584997], [0.00669974081796103]])\nin degs: 209.86112729519283, -208.0761132488268, -207.2442018086955\nIs at [[ 0.62905467]\n [48.00574276]\n [ 1.        ]]\ncost: [43.71123454]\n_____________________________________\nde: Matrix([[0.0786318338822423], [-0.0617821551931903]])\nJ num: Matrix([[9.24734066099400, -1.15947635979975, 10.8347005417305], [0.442584856098093, -5.53220882198966, -5.15841682796420]])\nd_phi: Matrix([[0.00122191708253216], [0.00497448164577799], [0.00674685414235188]])\nin degs: 209.93113798693687, -207.79109644525843, -206.85763554134837\nIs at [[ 0.7076865]\n [47.9439606]\n [ 1.       ]]\ncost: [43.61123454]\n_____________________________________\nde: Matrix([[0.0786318338822423], [-0.0617821551931903]])\nJ num: Matrix([[9.30843588541540, -1.09107266562398, 10.9005578268750], [0.521648045419530, -5.46585743657035, -5.01775239155479]])\nd_phi: Matrix([[0.00109387342989453], [0.00516814534301741], [0.00679675356855453]])\nin degs: 209.99381231779134, -207.49498352919335, -206.4682102474797\nIs at [[ 0.78631834]\n [47.88217845]\n [ 1.        ]]\ncost: [43.51123454]\n_____________________________________\nde: Matrix([[0.0786318338822423], [-0.0617821551931903]])\nJ num: Matrix([[9.36951562060200, -1.02343713677286, 10.9651522194507], [0.600709361969698, -5.39816828163783, -4.87498069783628]])\nd_phi: Matrix([[0.000962380587183610], [0.00536637289301548], [0.00684960297340107]])\nin degs: 210.04895266372228, -207.18751301113016, -206.07575690576357\nIs at [[ 0.86495017]\n [47.82039629]\n [ 1.        ]]\ncost: [43.41123454]\n_____________________________________\nde: Matrix([[0.0786318338822423], [-0.0617821551931903]])\nJ num: Matrix([[9.43057903144995, -0.956595710573595, 11.0284424531052], [0.679768528406524, -5.32910831162507, -4.73005888531493]])\nd_phi: Matrix([[0.000827292657539823], [0.00556954773503927], [0.00690557990307189]])\nin degs: 210.09635304142148, -206.86840143211577, -205.6800963222272\nIs at [[ 0.94358201]\n [47.75861414]\n [ 1.        ]]\ncost: [43.31123454]\n_____________________________________\nde: Matrix([[0.0786318338822423], [-0.0617821551931903]])\nJ num: Matrix([[9.49162521004414, -0.890574878297389, 11.0903860774982], [0.758825253787115, -5.25864276238389, -4.58293973907960]])\nd_phi: Matrix([[0.000688447556811994], [0.00577809819028005], [0.00696487716920278]])\nin degs: 210.1357981808429, -206.53734079220055, -205.28103825560487\nIs at [[ 1.02221384]\n [47.69683198]\n [ 1.        ]]\ncost: [43.21123454]\n_____________________________________\nde: Matrix([[0.0786318338822423], [-0.0617821551931903]])\nJ num: Matrix([[9.55265316720263, -0.825401749938342, 11.1509392734578], [0.837879232005736, -5.18673495786619, -4.43357117002271]])\nd_phi: Matrix([[0.000545665040345374], [0.00599250358032304], [0.00702770466471793]])\nin degs: 210.16706248468253, -206.193995628331, -204.87838043865213\nIs at [[ 1.10084567]\n [47.63504983]\n [ 1.        ]]\ncost: [43.11123454]\n_____________________________________\nde: Matrix([[0.0786318338822423], [-0.0617821551931903]])\nJ num: Matrix([[9.61366182276096, -0.761104128163538, 11.2100566391736], [0.916930139965192, -5.11334609446534, -4.28189562536491]])\nd_phi: Matrix([[0.000398744466804510], [0.00621330142163678], [0.00709429143366766]])\nin degs: 210.18990885973463, -205.8379996800286, -204.47190748086715\nIs at [[ 1.17947751]\n [47.57326767]\n [ 1.        ]]\ncost: [43.01123454]\n_____________________________________\nde: Matrix([[0.0786318338822423], [-0.0617821551931903]])\nJ num: Matrix([[9.67464999436649, -0.697710592560846, 11.2676909426407], [0.995977635433351, -5.03843500000653, -4.12784941841793]])\nd_phi: Matrix([[0.000247462256687475], [0.00644109592715493], [0.00716488803509295]])\nin degs: 210.20408740263161, -205.4689520679637, -204.06138963577254\nIs at [[ 1.25810934]\n [47.51148552]\n [ 1.        ]]\ncost: [42.91123454]\n_____________________________________\nde: Matrix([[0.0786318338822423], [-0.0617821551931903]])\nJ num: Matrix([[9.73561638450285, -0.635250595482109, 11.3237928345339], [1.07502135452582, -4.96195786387950, -3.97136196292381]])\nd_phi: Matrix([[9.15689959352537e-5], [0.00667656810435624], [0.00723976924755759]])\nin degs: 210.20933391963297, -205.08641289395243, -203.6465814132389\nIs at [[ 1.33674118]\n [47.44970336]\n [ 1.        ]]\ncost: [42.81123454]\n_____________________________________\nde: Matrix([[0.0786318338822423], [-0.0617821551931903]])\nJ num: Matrix([[9.79655956540178, -0.573754570979188, 11.3783105143837], [1.15406090874296, -4.88386793422770, -3.81235489406021]])\nd_phi: Matrix([[-6.92138732925045e-5], [0.00692048781471463], [0.00731923716851680]])\nin degs: 210.20536825680955, -204.68989814999756, -203.22722001422758\nIs at [[ 1.41537301]\n [47.38792121]\n [ 1.        ]]\ncost: [42.71123454]\n_____________________________________\nde: Matrix([[0.0786318338822423], [-0.0617821551931903]])\nJ num: Matrix([[9.85747796142087, -0.513254058561850, 11.4311893412647], [1.23309588147258, -4.80411517742748, -3.65074105410901]])\nd_phi: Matrix([[-0.000235197842021595], [0.00717372825776555], [0.00740362477107730]])\nin degs: 210.19189241311113, -204.27887379745385, -202.80302356174636\nIs at [[ 1.49400484]\n [47.32613905]\n [ 1.        ]]\ncost: [42.61123454]\n_____________________________________\nde: Matrix([[0.0786318338822423], [-0.0617821551931903]])\nJ num: Matrix([[9.91836982836477, -0.453781843773534, 11.4823713780941], [1.31212582384886, -4.72264589429911, -3.48642331559499]])\nd_phi: Matrix([[-0.000406731681761816], [0.00743728347230419], [0.00749329998973423]])\nin degs: 210.16858840435194, -203.8527488434484, -202.37368909770916\nIs at [[ 1.57263668]\n [47.2643569 ]\n [ 1.        ]]\ncost: [42.51123454]\n_____________________________________\nde: Matrix([[0.0786318338822423], [-0.0617821551931903]])\nJ num: Matrix([[9.97923322909981, -0.395372117884840, 11.5317948559131], [1.39115024983098, -4.63940228657208, -3.31929320806961]])\nd_phi: Matrix([[-0.000584206438334935], [0.00771228961854537], [0.00758867041583571]])\nin degs: 210.13511584107098, -203.4108671979232, -201.938890310766\nIs at [[ 1.65126851]\n [47.20257474]\n [ 1.        ]]\ncost: [42.41123454]\n_____________________________________\nde: Matrix([[0.0786318338822423], [-0.0617821551931903]])\nJ num: Matrix([[10.0400660046461, -0.338060659344976, 11.5793935409906], [1.47016863033061, -4.55432196607312, -3.14922930617383]])\nd_phi: Matrix([[-0.000768061171456458], [0.00800005103415533], [0.00769018869178642]])\nin degs: 210.09110917753867, -202.95249803777685, -201.49827495506742\nIs at [[ 1.72990035]\n [47.14079259]\n [ 1.        ]]\ncost: [42.31123454]\n_____________________________________\nde: Matrix([[0.0786318338822423], [-0.0617821551931903]])\nJ num: Matrix([[10.1008657397177, -0.281885040001805, 11.6250959829753], [1.54918038617249, -4.46733739791436, -2.97609532552509]])\nd_phi: Matrix([[-0.000958789547807490], [0.00830207236631614], [0.00779835869838256]])\nin degs: 210.03617458300803, -202.47682432997473, -201.05146191452096\nIs at [[ 1.80853218]\n [47.07901043]\n [ 1.        ]]\ncost: [42.21123454]\n_____________________________________\nde: Matrix([[0.0786318338822423], [-0.0617821551931903]])\nJ num: Matrix([[10.1616297214015, -0.226884859486153, 11.6688246162145], [1.62818487961439, -4.37837526764839, -2.79973785844808]])\nd_phi: Matrix([[-0.00115694739848301], [0.00862009850369602], [0.00791374262856057]])\nin degs: 209.9698863799563, -201.98292906672592, -200.59803786175166\nIs at [[ 1.88716401]\n [47.01722828]\n [ 1.        ]]\ncost: [42.11123454]\n_____________________________________\nde: Matrix([[0.0786318338822423], [-0.0617821551931903]])\nJ num: Matrix([[10.2223548892973, -0.173102011521868, 11.7104946782337], [1.70718140407621, -4.28735576097753, -2.61998366236520]])\nd_phi: Matrix([[-0.00136316134349385], [0.00895616461346312], [0.00803696902675294]])\nin degs: 209.89178298817873, -201.46977863375005, -200.13755345644137\nIs at [[ 1.96579585]\n [46.95544612]\n [ 1.        ]]\ncost: [42.01123454]\n_____________________________________\nde: Matrix([[0.0786318338822423], [-0.0617821551931903]])\nJ num: Matrix([[10.2830377749552, -0.120580986205262, 11.7500128984003], [1.78616917162713, -4.19419174326999, -2.43663638802075]])\nd_phi: Matrix([[-0.00157813855561476], [0.00931265939883441], [0.00816874183442939]])\nin degs: 209.80136230945513, -200.936202554154, -199.6695190253966\nIs at [[ 2.04442768]\n [46.89366396]\n [ 1.        ]]\ncost: [41.91123454]\n_____________________________________\nde: Matrix([[0.0786318338822423], [-0.0617821551931903]])\nJ num: Matrix([[10.3436744277892, -0.0693692123756549, 11.7872758948512], [1.86514729764610, -4.09878782507459, -2.24947260011324]])\nd_phi: Matrix([[-0.00180267766390236], [0.00969240583613981], [0.00830985039873039]])\nin degs: 209.69807648749102, -200.38086860641522, -199.19339966916425\nIs at [[ 2.12305951]\n [46.83188181]\n [ 1.        ]]\ncost: [41.81123454]\n_____________________________________\nde: Matrix([[0.0786318338822423], [-0.0617821551931903]])\nJ num: Matrix([[10.4042603237698, -0.0195174438547046, 11.8221681971286], [1.94411478189108, -4.00103929947435, -2.05823689569524]])\nd_phi: Matrix([[-0.00203768064876417], [0.0100987652848436], [0.00846118023574028]])\nin degs: 209.58132598632136, -199.80225197730044, -198.70860975195683\nIs at [[ 2.20169135]\n [46.77009965]\n [ 1.        ]]\ncost: [41.71123454]\n_____________________________________\nde: Matrix([[0.0786318338822423], [-0.0617821551931903]])\nJ num: Matrix([[10.4647902519961, 0.0289198078269450, 11.8545597831039], [2.02307048497199, -3.90083093828917, -1.86263586049838]])\nd_phi: Matrix([[-0.00228416529243157], [0.0105357732323410], [0.00862372402701512]])\nin degs: 209.45045295535476, -199.1985966371804, -198.2145067615233\nIs at [[ 2.28032318]\n [46.7083175 ]\n [ 1.        ]]\ncost: [41.61123454]\n_____________________________________\nde: Matrix([[0.0786318338822423], [-0.0617821551931903]])\nJ num: Matrix([[10.5252581726059, 0.0758837942774058, 11.8843029778103], [2.10201309889611, -3.79803563832054, -1.66233051214515]])\nd_phi: Matrix([[-0.00254327720572007], [0.0110083184172399], [0.00879859174762489]])\nin degs: 209.30473390533518, -198.56786645233643, -197.71038458872576\nIs at [[ 2.35895502]\n [46.64653534]\n [ 1.        ]]\ncost: [41.51123454]\n_____________________________________\nde: Matrix([[0.0786318338822424], [-0.0617821551931903]])\nJ num: Matrix([[10.5856570372119, 0.121311010205375, 11.9112285027770], [2.18094110991448, -3.69251291877020, -1.45692674992014]])\nd_phi: Matrix([[-0.00281629944030567], [0.0115223822726524], [0.00898701775496836]])\nin degs: 209.14337183356062, -197.9076825781771, -197.19546640095695\nIs at [[ 2.43758685]\n [46.58475319]\n [ 1.        ]]\ncost: [41.41123454]\n_____________________________________\nde: Matrix([[0.0786318338822423], [-0.0617821551931902]])\nJ num: Matrix([[10.6459785598993, 0.165132648640922, 11.9351403779650], [2.25985275130332, -3.58410729172054, -1.24596314482747]])\nd_phi: Matrix([[-0.00310465581258125], [0.0120853635158907], [0.00919036069439038]])\nin degs: 208.96548815865896, -197.21524225483518, -196.66889752096546\nIs at [[ 2.51621868]\n [46.52297103]\n [ 1.        ]]\ncost: [41.31123454]\n_____________________________________\nde: Matrix([[0.0786318338822423], [-0.0617821551931902]])\nJ num: Matrix([[10.7062129224237, 0.207274067604326, 11.9558092493585], [2.33874594292106, -3.47264656858288, -1.02889513214642]])\nd_phi: Matrix([[-0.00340990053596835], [0.0127065248726828], [0.00941008840327279]])\nin degs: 208.77011524938857, -196.48721200735244, -196.12973917061294\nIs at [[ 2.59485052]\n [46.46118888]\n [ 1.        ]]\ncost: [41.21123454]\n_____________________________________\nde: Matrix([[0.0786318338822424], [-0.0617821551931902]])\nJ num: Matrix([[10.7663483911406, 0.247654342018979, 11.9729635189616], [2.41761821335038, -3.35794024458011, -0.805074265899616]])\nd_phi: Matrix([[-0.00373368005941464], [0.0133976180023564], [0.00964773305531443]])\nin degs: 208.55619113993194, -195.71958504028893, -195.57696478467457\nIs at [[ 2.67348235]\n [46.39940672]\n [ 1.        ]]\ncost: [41.11123454]\n_____________________________________\nde: Matrix([[0.0786318338822423], [-0.0617821551931902]])\nJ num: Matrix([[10.8263708147944, 0.286186045469586, 11.9862773490256], [2.49646659917207, -3.23977825512888, -0.573720587250639]])\nd_phi: Matrix([[-0.00407764006262495], [0.0141737731178593], [0.00990478842717160]])\nin degs: 208.32255957397007, -194.9074876608596, -195.00946221082762\nIs at [[ 2.75211419]\n [46.33762457]\n [ 1.        ]]\ncost: [41.01123454]\n_____________________________________\nde: Matrix([[0.0786318338822423], [-0.0617821551931902]])\n"
    },
    {
     "output_type": "error",
     "ename": "KeyboardInterrupt",
     "evalue": "",
     "traceback": [
      "\u001b[0;31m---------------------------------------------------------------------------\u001b[0m",
      "\u001b[0;31mKeyboardInterrupt\u001b[0m                         Traceback (most recent call last)",
      "\u001b[0;32m<ipython-input-7-db9d26c25be7>\u001b[0m in \u001b[0;36m<module>\u001b[0;34m\u001b[0m\n\u001b[1;32m      3\u001b[0m    \u001b[0mde\u001b[0m \u001b[0;34m=\u001b[0m \u001b[0mlmbda\u001b[0m\u001b[0;34m*\u001b[0m\u001b[0msym\u001b[0m\u001b[0;34m.\u001b[0m\u001b[0mMatrix\u001b[0m\u001b[0;34m(\u001b[0m\u001b[0;34m[\u001b[0m\u001b[0mdx\u001b[0m\u001b[0;34m,\u001b[0m \u001b[0mdy\u001b[0m\u001b[0;34m]\u001b[0m\u001b[0;34m)\u001b[0m\u001b[0;34m\u001b[0m\u001b[0;34m\u001b[0m\u001b[0m\n\u001b[1;32m      4\u001b[0m    \u001b[0mprint\u001b[0m\u001b[0;34m(\u001b[0m\u001b[0;34mf'de: {de}'\u001b[0m\u001b[0;34m)\u001b[0m\u001b[0;34m\u001b[0m\u001b[0;34m\u001b[0m\u001b[0m\n\u001b[0;32m----> 5\u001b[0;31m    \u001b[0mJ_num\u001b[0m \u001b[0;34m=\u001b[0m \u001b[0mJ\u001b[0m\u001b[0;34m.\u001b[0m\u001b[0msubs\u001b[0m\u001b[0;34m(\u001b[0m\u001b[0;34m[\u001b[0m\u001b[0;34m(\u001b[0m\u001b[0;34m'phi1'\u001b[0m\u001b[0;34m,\u001b[0m \u001b[0mrads\u001b[0m\u001b[0;34m(\u001b[0m\u001b[0mphi1\u001b[0m\u001b[0;34m)\u001b[0m\u001b[0;34m)\u001b[0m\u001b[0;34m,\u001b[0m \u001b[0;34m(\u001b[0m\u001b[0;34m'phi2'\u001b[0m\u001b[0;34m,\u001b[0m \u001b[0mrads\u001b[0m\u001b[0;34m(\u001b[0m\u001b[0mphi2\u001b[0m\u001b[0;34m)\u001b[0m\u001b[0;34m)\u001b[0m\u001b[0;34m,\u001b[0m \u001b[0;34m(\u001b[0m\u001b[0;34m'phi3'\u001b[0m\u001b[0;34m,\u001b[0m \u001b[0mrads\u001b[0m\u001b[0;34m(\u001b[0m\u001b[0mphi3\u001b[0m\u001b[0;34m)\u001b[0m\u001b[0;34m)\u001b[0m\u001b[0;34m]\u001b[0m\u001b[0;34m)\u001b[0m \u001b[0;31m#plug in angle values into symbolic jacobian\u001b[0m\u001b[0;34m\u001b[0m\u001b[0;34m\u001b[0m\u001b[0m\n\u001b[0m\u001b[1;32m      6\u001b[0m    \u001b[0mprint\u001b[0m\u001b[0;34m(\u001b[0m\u001b[0;34mf'J num: {J_num}'\u001b[0m\u001b[0;34m)\u001b[0m\u001b[0;34m\u001b[0m\u001b[0;34m\u001b[0m\u001b[0m\n\u001b[1;32m      7\u001b[0m    \u001b[0mJ_pinv\u001b[0m \u001b[0;34m=\u001b[0m \u001b[0mJ_num\u001b[0m\u001b[0;34m.\u001b[0m\u001b[0mpinv\u001b[0m\u001b[0;34m(\u001b[0m\u001b[0;34m)\u001b[0m \u001b[0;31m#moore_prenrose pseudo inverse\u001b[0m\u001b[0;34m\u001b[0m\u001b[0;34m\u001b[0m\u001b[0m\n",
      "\u001b[0;32m~/anaconda3/lib/python3.7/site-packages/sympy/matrices/common.py\u001b[0m in \u001b[0;36msubs\u001b[0;34m(self, *args, **kwargs)\u001b[0m\n\u001b[1;32m   1887\u001b[0m         \u001b[0mMatrix\u001b[0m\u001b[0;34m(\u001b[0m\u001b[0;34m[\u001b[0m\u001b[0;34m[\u001b[0m\u001b[0mx\u001b[0m\u001b[0;34m]\u001b[0m\u001b[0;34m]\u001b[0m\u001b[0;34m)\u001b[0m\u001b[0;34m\u001b[0m\u001b[0;34m\u001b[0m\u001b[0m\n\u001b[1;32m   1888\u001b[0m         \"\"\"\n\u001b[0;32m-> 1889\u001b[0;31m         \u001b[0;32mreturn\u001b[0m \u001b[0mself\u001b[0m\u001b[0;34m.\u001b[0m\u001b[0mapplyfunc\u001b[0m\u001b[0;34m(\u001b[0m\u001b[0;32mlambda\u001b[0m \u001b[0mx\u001b[0m\u001b[0;34m:\u001b[0m \u001b[0mx\u001b[0m\u001b[0;34m.\u001b[0m\u001b[0msubs\u001b[0m\u001b[0;34m(\u001b[0m\u001b[0;34m*\u001b[0m\u001b[0margs\u001b[0m\u001b[0;34m,\u001b[0m \u001b[0;34m**\u001b[0m\u001b[0mkwargs\u001b[0m\u001b[0;34m)\u001b[0m\u001b[0;34m)\u001b[0m\u001b[0;34m\u001b[0m\u001b[0;34m\u001b[0m\u001b[0m\n\u001b[0m\u001b[1;32m   1890\u001b[0m \u001b[0;34m\u001b[0m\u001b[0m\n\u001b[1;32m   1891\u001b[0m     \u001b[0;32mdef\u001b[0m \u001b[0mtrace\u001b[0m\u001b[0;34m(\u001b[0m\u001b[0mself\u001b[0m\u001b[0;34m)\u001b[0m\u001b[0;34m:\u001b[0m\u001b[0;34m\u001b[0m\u001b[0;34m\u001b[0m\u001b[0m\n",
      "\u001b[0;32m~/anaconda3/lib/python3.7/site-packages/sympy/matrices/common.py\u001b[0m in \u001b[0;36mapplyfunc\u001b[0;34m(self, f)\u001b[0m\n\u001b[1;32m   1629\u001b[0m             \u001b[0;32mraise\u001b[0m \u001b[0mTypeError\u001b[0m\u001b[0;34m(\u001b[0m\u001b[0;34m\"`f` must be callable.\"\u001b[0m\u001b[0;34m)\u001b[0m\u001b[0;34m\u001b[0m\u001b[0;34m\u001b[0m\u001b[0m\n\u001b[1;32m   1630\u001b[0m \u001b[0;34m\u001b[0m\u001b[0m\n\u001b[0;32m-> 1631\u001b[0;31m         \u001b[0;32mreturn\u001b[0m \u001b[0mself\u001b[0m\u001b[0;34m.\u001b[0m\u001b[0m_eval_applyfunc\u001b[0m\u001b[0;34m(\u001b[0m\u001b[0mf\u001b[0m\u001b[0;34m)\u001b[0m\u001b[0;34m\u001b[0m\u001b[0;34m\u001b[0m\u001b[0m\n\u001b[0m\u001b[1;32m   1632\u001b[0m \u001b[0;34m\u001b[0m\u001b[0m\n\u001b[1;32m   1633\u001b[0m     \u001b[0;32mdef\u001b[0m \u001b[0mas_real_imag\u001b[0m\u001b[0;34m(\u001b[0m\u001b[0mself\u001b[0m\u001b[0;34m)\u001b[0m\u001b[0;34m:\u001b[0m\u001b[0;34m\u001b[0m\u001b[0;34m\u001b[0m\u001b[0m\n",
      "\u001b[0;32m~/anaconda3/lib/python3.7/site-packages/sympy/matrices/common.py\u001b[0m in \u001b[0;36m_eval_applyfunc\u001b[0;34m(self, f)\u001b[0m\n\u001b[1;32m   1569\u001b[0m \u001b[0;34m\u001b[0m\u001b[0m\n\u001b[1;32m   1570\u001b[0m     \u001b[0;32mdef\u001b[0m \u001b[0m_eval_applyfunc\u001b[0m\u001b[0;34m(\u001b[0m\u001b[0mself\u001b[0m\u001b[0;34m,\u001b[0m \u001b[0mf\u001b[0m\u001b[0;34m)\u001b[0m\u001b[0;34m:\u001b[0m\u001b[0;34m\u001b[0m\u001b[0;34m\u001b[0m\u001b[0m\n\u001b[0;32m-> 1571\u001b[0;31m         \u001b[0mout\u001b[0m \u001b[0;34m=\u001b[0m \u001b[0mself\u001b[0m\u001b[0;34m.\u001b[0m\u001b[0m_new\u001b[0m\u001b[0;34m(\u001b[0m\u001b[0mself\u001b[0m\u001b[0;34m.\u001b[0m\u001b[0mrows\u001b[0m\u001b[0;34m,\u001b[0m \u001b[0mself\u001b[0m\u001b[0;34m.\u001b[0m\u001b[0mcols\u001b[0m\u001b[0;34m,\u001b[0m \u001b[0;34m[\u001b[0m\u001b[0mf\u001b[0m\u001b[0;34m(\u001b[0m\u001b[0mx\u001b[0m\u001b[0;34m)\u001b[0m \u001b[0;32mfor\u001b[0m \u001b[0mx\u001b[0m \u001b[0;32min\u001b[0m \u001b[0mself\u001b[0m\u001b[0;34m]\u001b[0m\u001b[0;34m)\u001b[0m\u001b[0;34m\u001b[0m\u001b[0;34m\u001b[0m\u001b[0m\n\u001b[0m\u001b[1;32m   1572\u001b[0m         \u001b[0;32mreturn\u001b[0m \u001b[0mout\u001b[0m\u001b[0;34m\u001b[0m\u001b[0;34m\u001b[0m\u001b[0m\n\u001b[1;32m   1573\u001b[0m \u001b[0;34m\u001b[0m\u001b[0m\n",
      "\u001b[0;32m~/anaconda3/lib/python3.7/site-packages/sympy/matrices/common.py\u001b[0m in \u001b[0;36m<listcomp>\u001b[0;34m(.0)\u001b[0m\n\u001b[1;32m   1569\u001b[0m \u001b[0;34m\u001b[0m\u001b[0m\n\u001b[1;32m   1570\u001b[0m     \u001b[0;32mdef\u001b[0m \u001b[0m_eval_applyfunc\u001b[0m\u001b[0;34m(\u001b[0m\u001b[0mself\u001b[0m\u001b[0;34m,\u001b[0m \u001b[0mf\u001b[0m\u001b[0;34m)\u001b[0m\u001b[0;34m:\u001b[0m\u001b[0;34m\u001b[0m\u001b[0;34m\u001b[0m\u001b[0m\n\u001b[0;32m-> 1571\u001b[0;31m         \u001b[0mout\u001b[0m \u001b[0;34m=\u001b[0m \u001b[0mself\u001b[0m\u001b[0;34m.\u001b[0m\u001b[0m_new\u001b[0m\u001b[0;34m(\u001b[0m\u001b[0mself\u001b[0m\u001b[0;34m.\u001b[0m\u001b[0mrows\u001b[0m\u001b[0;34m,\u001b[0m \u001b[0mself\u001b[0m\u001b[0;34m.\u001b[0m\u001b[0mcols\u001b[0m\u001b[0;34m,\u001b[0m \u001b[0;34m[\u001b[0m\u001b[0mf\u001b[0m\u001b[0;34m(\u001b[0m\u001b[0mx\u001b[0m\u001b[0;34m)\u001b[0m \u001b[0;32mfor\u001b[0m \u001b[0mx\u001b[0m \u001b[0;32min\u001b[0m \u001b[0mself\u001b[0m\u001b[0;34m]\u001b[0m\u001b[0;34m)\u001b[0m\u001b[0;34m\u001b[0m\u001b[0;34m\u001b[0m\u001b[0m\n\u001b[0m\u001b[1;32m   1572\u001b[0m         \u001b[0;32mreturn\u001b[0m \u001b[0mout\u001b[0m\u001b[0;34m\u001b[0m\u001b[0;34m\u001b[0m\u001b[0m\n\u001b[1;32m   1573\u001b[0m \u001b[0;34m\u001b[0m\u001b[0m\n",
      "\u001b[0;32m~/anaconda3/lib/python3.7/site-packages/sympy/matrices/common.py\u001b[0m in \u001b[0;36m<lambda>\u001b[0;34m(x)\u001b[0m\n\u001b[1;32m   1887\u001b[0m         \u001b[0mMatrix\u001b[0m\u001b[0;34m(\u001b[0m\u001b[0;34m[\u001b[0m\u001b[0;34m[\u001b[0m\u001b[0mx\u001b[0m\u001b[0;34m]\u001b[0m\u001b[0;34m]\u001b[0m\u001b[0;34m)\u001b[0m\u001b[0;34m\u001b[0m\u001b[0;34m\u001b[0m\u001b[0m\n\u001b[1;32m   1888\u001b[0m         \"\"\"\n\u001b[0;32m-> 1889\u001b[0;31m         \u001b[0;32mreturn\u001b[0m \u001b[0mself\u001b[0m\u001b[0;34m.\u001b[0m\u001b[0mapplyfunc\u001b[0m\u001b[0;34m(\u001b[0m\u001b[0;32mlambda\u001b[0m \u001b[0mx\u001b[0m\u001b[0;34m:\u001b[0m \u001b[0mx\u001b[0m\u001b[0;34m.\u001b[0m\u001b[0msubs\u001b[0m\u001b[0;34m(\u001b[0m\u001b[0;34m*\u001b[0m\u001b[0margs\u001b[0m\u001b[0;34m,\u001b[0m \u001b[0;34m**\u001b[0m\u001b[0mkwargs\u001b[0m\u001b[0;34m)\u001b[0m\u001b[0;34m)\u001b[0m\u001b[0;34m\u001b[0m\u001b[0;34m\u001b[0m\u001b[0m\n\u001b[0m\u001b[1;32m   1890\u001b[0m \u001b[0;34m\u001b[0m\u001b[0m\n\u001b[1;32m   1891\u001b[0m     \u001b[0;32mdef\u001b[0m \u001b[0mtrace\u001b[0m\u001b[0;34m(\u001b[0m\u001b[0mself\u001b[0m\u001b[0;34m)\u001b[0m\u001b[0;34m:\u001b[0m\u001b[0;34m\u001b[0m\u001b[0;34m\u001b[0m\u001b[0m\n",
      "\u001b[0;32m~/anaconda3/lib/python3.7/site-packages/sympy/core/basic.py\u001b[0m in \u001b[0;36msubs\u001b[0;34m(self, *args, **kwargs)\u001b[0m\n\u001b[1;32m    995\u001b[0m             \u001b[0mrv\u001b[0m \u001b[0;34m=\u001b[0m \u001b[0mself\u001b[0m\u001b[0;34m\u001b[0m\u001b[0;34m\u001b[0m\u001b[0m\n\u001b[1;32m    996\u001b[0m             \u001b[0;32mfor\u001b[0m \u001b[0mold\u001b[0m\u001b[0;34m,\u001b[0m \u001b[0mnew\u001b[0m \u001b[0;32min\u001b[0m \u001b[0msequence\u001b[0m\u001b[0;34m:\u001b[0m\u001b[0;34m\u001b[0m\u001b[0;34m\u001b[0m\u001b[0m\n\u001b[0;32m--> 997\u001b[0;31m                 \u001b[0mrv\u001b[0m \u001b[0;34m=\u001b[0m \u001b[0mrv\u001b[0m\u001b[0;34m.\u001b[0m\u001b[0m_subs\u001b[0m\u001b[0;34m(\u001b[0m\u001b[0mold\u001b[0m\u001b[0;34m,\u001b[0m \u001b[0mnew\u001b[0m\u001b[0;34m,\u001b[0m \u001b[0;34m**\u001b[0m\u001b[0mkwargs\u001b[0m\u001b[0;34m)\u001b[0m\u001b[0;34m\u001b[0m\u001b[0;34m\u001b[0m\u001b[0m\n\u001b[0m\u001b[1;32m    998\u001b[0m                 \u001b[0;32mif\u001b[0m \u001b[0;32mnot\u001b[0m \u001b[0misinstance\u001b[0m\u001b[0;34m(\u001b[0m\u001b[0mrv\u001b[0m\u001b[0;34m,\u001b[0m \u001b[0mBasic\u001b[0m\u001b[0;34m)\u001b[0m\u001b[0;34m:\u001b[0m\u001b[0;34m\u001b[0m\u001b[0;34m\u001b[0m\u001b[0m\n\u001b[1;32m    999\u001b[0m                     \u001b[0;32mbreak\u001b[0m\u001b[0;34m\u001b[0m\u001b[0;34m\u001b[0m\u001b[0m\n",
      "\u001b[0;32m~/anaconda3/lib/python3.7/site-packages/sympy/core/basic.py\u001b[0m in \u001b[0;36m_subs\u001b[0;34m(self, old, new, **hints)\u001b[0m\n\u001b[1;32m   1109\u001b[0m         \u001b[0mrv\u001b[0m \u001b[0;34m=\u001b[0m \u001b[0mself\u001b[0m\u001b[0;34m.\u001b[0m\u001b[0m_eval_subs\u001b[0m\u001b[0;34m(\u001b[0m\u001b[0mold\u001b[0m\u001b[0;34m,\u001b[0m \u001b[0mnew\u001b[0m\u001b[0;34m)\u001b[0m\u001b[0;34m\u001b[0m\u001b[0;34m\u001b[0m\u001b[0m\n\u001b[1;32m   1110\u001b[0m         \u001b[0;32mif\u001b[0m \u001b[0mrv\u001b[0m \u001b[0;32mis\u001b[0m \u001b[0;32mNone\u001b[0m\u001b[0;34m:\u001b[0m\u001b[0;34m\u001b[0m\u001b[0;34m\u001b[0m\u001b[0m\n\u001b[0;32m-> 1111\u001b[0;31m             \u001b[0mrv\u001b[0m \u001b[0;34m=\u001b[0m \u001b[0mfallback\u001b[0m\u001b[0;34m(\u001b[0m\u001b[0mself\u001b[0m\u001b[0;34m,\u001b[0m \u001b[0mold\u001b[0m\u001b[0;34m,\u001b[0m \u001b[0mnew\u001b[0m\u001b[0;34m)\u001b[0m\u001b[0;34m\u001b[0m\u001b[0;34m\u001b[0m\u001b[0m\n\u001b[0m\u001b[1;32m   1112\u001b[0m         \u001b[0;32mreturn\u001b[0m \u001b[0mrv\u001b[0m\u001b[0;34m\u001b[0m\u001b[0;34m\u001b[0m\u001b[0m\n\u001b[1;32m   1113\u001b[0m \u001b[0;34m\u001b[0m\u001b[0m\n",
      "\u001b[0;32m~/anaconda3/lib/python3.7/site-packages/sympy/core/basic.py\u001b[0m in \u001b[0;36mfallback\u001b[0;34m(self, old, new)\u001b[0m\n\u001b[1;32m   1081\u001b[0m                 \u001b[0;32mif\u001b[0m \u001b[0;32mnot\u001b[0m \u001b[0mhasattr\u001b[0m\u001b[0;34m(\u001b[0m\u001b[0marg\u001b[0m\u001b[0;34m,\u001b[0m \u001b[0;34m'_eval_subs'\u001b[0m\u001b[0;34m)\u001b[0m\u001b[0;34m:\u001b[0m\u001b[0;34m\u001b[0m\u001b[0;34m\u001b[0m\u001b[0m\n\u001b[1;32m   1082\u001b[0m                     \u001b[0;32mcontinue\u001b[0m\u001b[0;34m\u001b[0m\u001b[0;34m\u001b[0m\u001b[0m\n\u001b[0;32m-> 1083\u001b[0;31m                 \u001b[0marg\u001b[0m \u001b[0;34m=\u001b[0m \u001b[0marg\u001b[0m\u001b[0;34m.\u001b[0m\u001b[0m_subs\u001b[0m\u001b[0;34m(\u001b[0m\u001b[0mold\u001b[0m\u001b[0;34m,\u001b[0m \u001b[0mnew\u001b[0m\u001b[0;34m,\u001b[0m \u001b[0;34m**\u001b[0m\u001b[0mhints\u001b[0m\u001b[0;34m)\u001b[0m\u001b[0;34m\u001b[0m\u001b[0;34m\u001b[0m\u001b[0m\n\u001b[0m\u001b[1;32m   1084\u001b[0m                 \u001b[0;32mif\u001b[0m \u001b[0;32mnot\u001b[0m \u001b[0m_aresame\u001b[0m\u001b[0;34m(\u001b[0m\u001b[0marg\u001b[0m\u001b[0;34m,\u001b[0m \u001b[0margs\u001b[0m\u001b[0;34m[\u001b[0m\u001b[0mi\u001b[0m\u001b[0;34m]\u001b[0m\u001b[0;34m)\u001b[0m\u001b[0;34m:\u001b[0m\u001b[0;34m\u001b[0m\u001b[0;34m\u001b[0m\u001b[0m\n\u001b[1;32m   1085\u001b[0m                     \u001b[0mhit\u001b[0m \u001b[0;34m=\u001b[0m \u001b[0;32mTrue\u001b[0m\u001b[0;34m\u001b[0m\u001b[0;34m\u001b[0m\u001b[0m\n",
      "\u001b[0;32m~/anaconda3/lib/python3.7/site-packages/sympy/core/basic.py\u001b[0m in \u001b[0;36m_subs\u001b[0;34m(self, old, new, **hints)\u001b[0m\n\u001b[1;32m   1109\u001b[0m         \u001b[0mrv\u001b[0m \u001b[0;34m=\u001b[0m \u001b[0mself\u001b[0m\u001b[0;34m.\u001b[0m\u001b[0m_eval_subs\u001b[0m\u001b[0;34m(\u001b[0m\u001b[0mold\u001b[0m\u001b[0;34m,\u001b[0m \u001b[0mnew\u001b[0m\u001b[0;34m)\u001b[0m\u001b[0;34m\u001b[0m\u001b[0;34m\u001b[0m\u001b[0m\n\u001b[1;32m   1110\u001b[0m         \u001b[0;32mif\u001b[0m \u001b[0mrv\u001b[0m \u001b[0;32mis\u001b[0m \u001b[0;32mNone\u001b[0m\u001b[0;34m:\u001b[0m\u001b[0;34m\u001b[0m\u001b[0;34m\u001b[0m\u001b[0m\n\u001b[0;32m-> 1111\u001b[0;31m             \u001b[0mrv\u001b[0m \u001b[0;34m=\u001b[0m \u001b[0mfallback\u001b[0m\u001b[0;34m(\u001b[0m\u001b[0mself\u001b[0m\u001b[0;34m,\u001b[0m \u001b[0mold\u001b[0m\u001b[0;34m,\u001b[0m \u001b[0mnew\u001b[0m\u001b[0;34m)\u001b[0m\u001b[0;34m\u001b[0m\u001b[0;34m\u001b[0m\u001b[0m\n\u001b[0m\u001b[1;32m   1112\u001b[0m         \u001b[0;32mreturn\u001b[0m \u001b[0mrv\u001b[0m\u001b[0;34m\u001b[0m\u001b[0;34m\u001b[0m\u001b[0m\n\u001b[1;32m   1113\u001b[0m \u001b[0;34m\u001b[0m\u001b[0m\n",
      "\u001b[0;32m~/anaconda3/lib/python3.7/site-packages/sympy/core/basic.py\u001b[0m in \u001b[0;36mfallback\u001b[0;34m(self, old, new)\u001b[0m\n\u001b[1;32m   1081\u001b[0m                 \u001b[0;32mif\u001b[0m \u001b[0;32mnot\u001b[0m \u001b[0mhasattr\u001b[0m\u001b[0;34m(\u001b[0m\u001b[0marg\u001b[0m\u001b[0;34m,\u001b[0m \u001b[0;34m'_eval_subs'\u001b[0m\u001b[0;34m)\u001b[0m\u001b[0;34m:\u001b[0m\u001b[0;34m\u001b[0m\u001b[0;34m\u001b[0m\u001b[0m\n\u001b[1;32m   1082\u001b[0m                     \u001b[0;32mcontinue\u001b[0m\u001b[0;34m\u001b[0m\u001b[0;34m\u001b[0m\u001b[0m\n\u001b[0;32m-> 1083\u001b[0;31m                 \u001b[0marg\u001b[0m \u001b[0;34m=\u001b[0m \u001b[0marg\u001b[0m\u001b[0;34m.\u001b[0m\u001b[0m_subs\u001b[0m\u001b[0;34m(\u001b[0m\u001b[0mold\u001b[0m\u001b[0;34m,\u001b[0m \u001b[0mnew\u001b[0m\u001b[0;34m,\u001b[0m \u001b[0;34m**\u001b[0m\u001b[0mhints\u001b[0m\u001b[0;34m)\u001b[0m\u001b[0;34m\u001b[0m\u001b[0;34m\u001b[0m\u001b[0m\n\u001b[0m\u001b[1;32m   1084\u001b[0m                 \u001b[0;32mif\u001b[0m \u001b[0;32mnot\u001b[0m \u001b[0m_aresame\u001b[0m\u001b[0;34m(\u001b[0m\u001b[0marg\u001b[0m\u001b[0;34m,\u001b[0m \u001b[0margs\u001b[0m\u001b[0;34m[\u001b[0m\u001b[0mi\u001b[0m\u001b[0;34m]\u001b[0m\u001b[0;34m)\u001b[0m\u001b[0;34m:\u001b[0m\u001b[0;34m\u001b[0m\u001b[0;34m\u001b[0m\u001b[0m\n\u001b[1;32m   1085\u001b[0m                     \u001b[0mhit\u001b[0m \u001b[0;34m=\u001b[0m \u001b[0;32mTrue\u001b[0m\u001b[0;34m\u001b[0m\u001b[0;34m\u001b[0m\u001b[0m\n",
      "\u001b[0;32m~/anaconda3/lib/python3.7/site-packages/sympy/core/basic.py\u001b[0m in \u001b[0;36m_subs\u001b[0;34m(self, old, new, **hints)\u001b[0m\n\u001b[1;32m   1109\u001b[0m         \u001b[0mrv\u001b[0m \u001b[0;34m=\u001b[0m \u001b[0mself\u001b[0m\u001b[0;34m.\u001b[0m\u001b[0m_eval_subs\u001b[0m\u001b[0;34m(\u001b[0m\u001b[0mold\u001b[0m\u001b[0;34m,\u001b[0m \u001b[0mnew\u001b[0m\u001b[0;34m)\u001b[0m\u001b[0;34m\u001b[0m\u001b[0;34m\u001b[0m\u001b[0m\n\u001b[1;32m   1110\u001b[0m         \u001b[0;32mif\u001b[0m \u001b[0mrv\u001b[0m \u001b[0;32mis\u001b[0m \u001b[0;32mNone\u001b[0m\u001b[0;34m:\u001b[0m\u001b[0;34m\u001b[0m\u001b[0;34m\u001b[0m\u001b[0m\n\u001b[0;32m-> 1111\u001b[0;31m             \u001b[0mrv\u001b[0m \u001b[0;34m=\u001b[0m \u001b[0mfallback\u001b[0m\u001b[0;34m(\u001b[0m\u001b[0mself\u001b[0m\u001b[0;34m,\u001b[0m \u001b[0mold\u001b[0m\u001b[0;34m,\u001b[0m \u001b[0mnew\u001b[0m\u001b[0;34m)\u001b[0m\u001b[0;34m\u001b[0m\u001b[0;34m\u001b[0m\u001b[0m\n\u001b[0m\u001b[1;32m   1112\u001b[0m         \u001b[0;32mreturn\u001b[0m \u001b[0mrv\u001b[0m\u001b[0;34m\u001b[0m\u001b[0;34m\u001b[0m\u001b[0m\n\u001b[1;32m   1113\u001b[0m \u001b[0;34m\u001b[0m\u001b[0m\n",
      "\u001b[0;32m~/anaconda3/lib/python3.7/site-packages/sympy/core/basic.py\u001b[0m in \u001b[0;36mfallback\u001b[0;34m(self, old, new)\u001b[0m\n\u001b[1;32m   1082\u001b[0m                     \u001b[0;32mcontinue\u001b[0m\u001b[0;34m\u001b[0m\u001b[0;34m\u001b[0m\u001b[0m\n\u001b[1;32m   1083\u001b[0m                 \u001b[0marg\u001b[0m \u001b[0;34m=\u001b[0m \u001b[0marg\u001b[0m\u001b[0;34m.\u001b[0m\u001b[0m_subs\u001b[0m\u001b[0;34m(\u001b[0m\u001b[0mold\u001b[0m\u001b[0;34m,\u001b[0m \u001b[0mnew\u001b[0m\u001b[0;34m,\u001b[0m \u001b[0;34m**\u001b[0m\u001b[0mhints\u001b[0m\u001b[0;34m)\u001b[0m\u001b[0;34m\u001b[0m\u001b[0;34m\u001b[0m\u001b[0m\n\u001b[0;32m-> 1084\u001b[0;31m                 \u001b[0;32mif\u001b[0m \u001b[0;32mnot\u001b[0m \u001b[0m_aresame\u001b[0m\u001b[0;34m(\u001b[0m\u001b[0marg\u001b[0m\u001b[0;34m,\u001b[0m \u001b[0margs\u001b[0m\u001b[0;34m[\u001b[0m\u001b[0mi\u001b[0m\u001b[0;34m]\u001b[0m\u001b[0;34m)\u001b[0m\u001b[0;34m:\u001b[0m\u001b[0;34m\u001b[0m\u001b[0;34m\u001b[0m\u001b[0m\n\u001b[0m\u001b[1;32m   1085\u001b[0m                     \u001b[0mhit\u001b[0m \u001b[0;34m=\u001b[0m \u001b[0;32mTrue\u001b[0m\u001b[0;34m\u001b[0m\u001b[0;34m\u001b[0m\u001b[0m\n\u001b[1;32m   1086\u001b[0m                     \u001b[0margs\u001b[0m\u001b[0;34m[\u001b[0m\u001b[0mi\u001b[0m\u001b[0;34m]\u001b[0m \u001b[0;34m=\u001b[0m \u001b[0marg\u001b[0m\u001b[0;34m\u001b[0m\u001b[0;34m\u001b[0m\u001b[0m\n",
      "\u001b[0;32m~/anaconda3/lib/python3.7/site-packages/sympy/core/basic.py\u001b[0m in \u001b[0;36m_aresame\u001b[0;34m(a, b)\u001b[0m\n\u001b[1;32m   1853\u001b[0m     \u001b[0;32mfrom\u001b[0m \u001b[0;34m.\u001b[0m\u001b[0mfunction\u001b[0m \u001b[0;32mimport\u001b[0m \u001b[0mAppliedUndef\u001b[0m\u001b[0;34m,\u001b[0m \u001b[0mUndefinedFunction\u001b[0m \u001b[0;32mas\u001b[0m \u001b[0mUndefFunc\u001b[0m\u001b[0;34m\u001b[0m\u001b[0;34m\u001b[0m\u001b[0m\n\u001b[1;32m   1854\u001b[0m     \u001b[0;32mfor\u001b[0m \u001b[0mi\u001b[0m\u001b[0;34m,\u001b[0m \u001b[0mj\u001b[0m \u001b[0;32min\u001b[0m \u001b[0mzip_longest\u001b[0m\u001b[0;34m(\u001b[0m\u001b[0mpreorder_traversal\u001b[0m\u001b[0;34m(\u001b[0m\u001b[0ma\u001b[0m\u001b[0;34m)\u001b[0m\u001b[0;34m,\u001b[0m \u001b[0mpreorder_traversal\u001b[0m\u001b[0;34m(\u001b[0m\u001b[0mb\u001b[0m\u001b[0;34m)\u001b[0m\u001b[0;34m)\u001b[0m\u001b[0;34m:\u001b[0m\u001b[0;34m\u001b[0m\u001b[0;34m\u001b[0m\u001b[0m\n\u001b[0;32m-> 1855\u001b[0;31m         \u001b[0;32mif\u001b[0m \u001b[0mi\u001b[0m \u001b[0;34m!=\u001b[0m \u001b[0mj\u001b[0m \u001b[0;32mor\u001b[0m \u001b[0mtype\u001b[0m\u001b[0;34m(\u001b[0m\u001b[0mi\u001b[0m\u001b[0;34m)\u001b[0m \u001b[0;34m!=\u001b[0m \u001b[0mtype\u001b[0m\u001b[0;34m(\u001b[0m\u001b[0mj\u001b[0m\u001b[0;34m)\u001b[0m\u001b[0;34m:\u001b[0m\u001b[0;34m\u001b[0m\u001b[0;34m\u001b[0m\u001b[0m\n\u001b[0m\u001b[1;32m   1856\u001b[0m             if ((isinstance(i, UndefFunc) and isinstance(j, UndefFunc)) or\n\u001b[1;32m   1857\u001b[0m                 (isinstance(i, AppliedUndef) and isinstance(j, AppliedUndef))):\n",
      "\u001b[0;32m~/anaconda3/lib/python3.7/site-packages/sympy/core/basic.py\u001b[0m in \u001b[0;36m__ne__\u001b[0;34m(self, other)\u001b[0m\n\u001b[1;32m    341\u001b[0m         \u001b[0;32mreturn\u001b[0m \u001b[0mself\u001b[0m\u001b[0;34m.\u001b[0m\u001b[0m_hashable_content\u001b[0m\u001b[0;34m(\u001b[0m\u001b[0;34m)\u001b[0m \u001b[0;34m==\u001b[0m \u001b[0mother\u001b[0m\u001b[0;34m.\u001b[0m\u001b[0m_hashable_content\u001b[0m\u001b[0;34m(\u001b[0m\u001b[0;34m)\u001b[0m\u001b[0;34m\u001b[0m\u001b[0;34m\u001b[0m\u001b[0m\n\u001b[1;32m    342\u001b[0m \u001b[0;34m\u001b[0m\u001b[0m\n\u001b[0;32m--> 343\u001b[0;31m     \u001b[0;32mdef\u001b[0m \u001b[0m__ne__\u001b[0m\u001b[0;34m(\u001b[0m\u001b[0mself\u001b[0m\u001b[0;34m,\u001b[0m \u001b[0mother\u001b[0m\u001b[0;34m)\u001b[0m\u001b[0;34m:\u001b[0m\u001b[0;34m\u001b[0m\u001b[0;34m\u001b[0m\u001b[0m\n\u001b[0m\u001b[1;32m    344\u001b[0m         \"\"\"a != b  -> Compare two symbolic trees and see whether they are different\n\u001b[1;32m    345\u001b[0m \u001b[0;34m\u001b[0m\u001b[0m\n",
      "\u001b[0;31mKeyboardInterrupt\u001b[0m: "
     ]
    }
   ],
   "source": [
    " while C > 0.5:\n",
    "    dx, dy = gradientDesc(e[0], e[1], x_g, y_g)\n",
    "    de = lmbda*sym.Matrix([dx, dy])\n",
    "    print(f'de: {de}')\n",
    "    J_num = J.subs([('phi1', rads(phi1)), ('phi2', rads(phi2)), ('phi3', rads(phi3))]) #plug in angle values into symbolic jacobian\n",
    "    print(f'J num: {J_num}')\n",
    "    J_pinv = J_num.pinv() #moore_prenrose pseudo inverse\n",
    "    d_phi = J_pinv*de\n",
    "    print(f'd_phi: {d_phi}')\n",
    "    d_phi = np.array(d_phi, dtype=np.float64) #convert sympy array to numpy array (different float representation)\n",
    "    phi1 = (phi1) + degrees(d_phi[0])\n",
    "    phi2 = (phi2) + degrees(d_phi[1])\n",
    "    phi3 = (phi3) + degrees(d_phi[2])\n",
    "    print(f'in degs: {phi1[0]}, {phi2[0]}, {phi3[0]}')\n",
    "\n",
    "    # rotate_frame(myBot, phi_1[0], phi_2[0], phi_3[0])\n",
    "    # print(f'New angles: {myBot.theta1}, {myBot.theta2}, {myBot.theta3}')\n",
    "\n",
    "        # After rotate_frame is done executing global robot object is updated to new position\n",
    "    # e_th[0] = e_th[0]+de[0]\n",
    "    # e_th[1] = e_th[1]+de[1]\n",
    "    # print(f'Should be at {e_th}')\n",
    "\n",
    "    e[0] = e[0]+de[0]\n",
    "    e[1] = e[1]+de[1]\n",
    "    print(f'Is at {e}')\n",
    "      \n",
    "    C = computeCost(e[0], e[1], x_g, y_g)\n",
    "    print(f'cost: {C}')\n",
    "    print('_____________________________________')\n"
   ]
  },
  {
   "cell_type": "code",
   "execution_count": 7,
   "metadata": {},
   "outputs": [],
   "source": [
    "def computeCost(X, Y, x_g, y_g):\n",
    "    return np.sqrt(np.square(X-x_g) + np.square(Y-y_g))\n",
    "\n",
    "def gradientDesc(X, Y, x_g, y_g):\n",
    "    d_g = computeCost(X, Y, x_g, y_g)  # euclidian distance to goal point\n",
    "    dx = (X-x_g)/d_g\n",
    "    dy = (Y-y_g)/d_g\n",
    "    return dx, dy\n",
    "\n",
    "def rads(deg):\n",
    "    return np.radians(deg)\n",
    "\n",
    "def degrees(rads):\n",
    "    return np.degrees(rads)\n"
   ]
  },
  {
   "cell_type": "code",
   "execution_count": null,
   "metadata": {},
   "outputs": [],
   "source": []
  }
 ],
 "metadata": {
  "language_info": {
   "codemirror_mode": {
    "name": "ipython",
    "version": 3
   },
   "file_extension": ".py",
   "mimetype": "text/x-python",
   "name": "python",
   "nbconvert_exporter": "python",
   "pygments_lexer": "ipython3",
   "version": "3.7.4-final"
  },
  "orig_nbformat": 2,
  "kernelspec": {
   "name": "python37464bitbaseconda3b15b15b47874cc680b55031cb935bf2",
   "display_name": "Python 3.7.4 64-bit ('base': conda)"
  }
 },
 "nbformat": 4,
 "nbformat_minor": 2
}